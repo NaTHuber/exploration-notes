{
 "cells": [
  {
   "cell_type": "markdown",
   "id": "f8652e98-e3f2-4cc3-a44e-9c249d1da567",
   "metadata": {},
   "source": [
    "# Funciones, derivadas y el algoritmo del descenso del gradiente\n",
    "El siguiente noteboook tiene como objetivo sintetizar y consolidar tres conceptos aprendidos; funciones, derivadas y el algoritmos del descenso del gradiente \n",
    "```mermaid\n",
    "flowchart TD\n",
    "    A(Funciones) --> B(Derivadas)\n",
    "    B --> C(Algoritmo del descenso del gradiente)\n",
    "```"
   ]
  },
  {
   "cell_type": "markdown",
   "id": "85041127-c888-472b-aadb-e12b6d82bb3c",
   "metadata": {},
   "source": [
    "## Funciones \n",
    "Las funciones son relaciones entre elementos de dos conjuntos \n",
    "```mermaid\n",
    "    flowchart TD\n",
    "    A(Entrada) --> B(Función)\n",
    "    B --> C(Salida)\n",
    "```\n",
    "Algunos ejemplos de funciones de $f: \\mathbb{R}  \\rightarrow \\mathbb{R}$ son\n",
    "$$\n",
    "f(x) = x^2, \\quad f(x) = 3x. \n",
    "$$\n",
    "En lo siguiente se verá cómo es qu ese pueden definir estos objetos en python"
   ]
  },
  {
   "cell_type": "code",
   "execution_count": 1,
   "id": "8edfa748-4e4a-454a-8a5b-b1980c2a9950",
   "metadata": {},
   "outputs": [],
   "source": [
    "# Definiendo la primera funcion f(x) = x**2\n",
    "def cuadrado(x):\n",
    "    return x**2"
   ]
  },
  {
   "cell_type": "code",
   "execution_count": 2,
   "id": "e96cdb78-b608-49c8-afa2-592f04678011",
   "metadata": {},
   "outputs": [
    {
     "name": "stdout",
     "output_type": "stream",
     "text": [
      "Este es el cuadrado de 5: 25\n"
     ]
    }
   ],
   "source": [
    "# Llamando a llamar la función \n",
    "x = 5\n",
    "y = cuadrado(x)\n",
    "print(f\"Este es el cuadrado de {x}: {y}\")"
   ]
  },
  {
   "cell_type": "code",
   "execution_count": 3,
   "id": "717a8f0d-5dd4-4bf1-969e-f6be0432fc4c",
   "metadata": {},
   "outputs": [
    {
     "name": "stdout",
     "output_type": "stream",
     "text": [
      "Este es el resultado de mi función iterativa cuando x = 10: 100\n"
     ]
    }
   ],
   "source": [
    "# También se puede definir funciones iterativas y se pueden usar condicionales\n",
    "def funcion_iterativa(x):\n",
    "    resultado = 0\n",
    "    contador = int(abs(x))\n",
    "    for i in range(contador):\n",
    "        if x > 0:\n",
    "            resultado += x\n",
    "        else:\n",
    "            resultado -= x\n",
    "    return resultado \n",
    "# LLando a la función \n",
    "x = 10\n",
    "resultado = funcion_iterativa(x)\n",
    "print(f\"Este es el resultado de mi función iterativa cuando x = {x}: {resultado}\")"
   ]
  },
  {
   "cell_type": "code",
   "execution_count": 4,
   "id": "b5a3f54e-8f63-44dc-ae27-4aa6519f8795",
   "metadata": {},
   "outputs": [],
   "source": [
    "# Una parte importante al hacer funciones es poder visualizarlas \n",
    "import numpy as np\n",
    "import matplotlib.pyplot as plt\n",
    "x_vals = np.linspace(-5, 5, 100)\n",
    "y_vals = cuadrado(x)"
   ]
  },
  {
   "cell_type": "code",
   "execution_count": null,
   "id": "bb95ff0d-c3f2-496d-b8cb-4386ee335a9f",
   "metadata": {},
   "outputs": [],
   "source": []
  }
 ],
 "metadata": {
  "kernelspec": {
   "display_name": "Python 3 (ipykernel)",
   "language": "python",
   "name": "python3"
  },
  "language_info": {
   "codemirror_mode": {
    "name": "ipython",
    "version": 3
   },
   "file_extension": ".py",
   "mimetype": "text/x-python",
   "name": "python",
   "nbconvert_exporter": "python",
   "pygments_lexer": "ipython3",
   "version": "3.12.7"
  }
 },
 "nbformat": 4,
 "nbformat_minor": 5
}
